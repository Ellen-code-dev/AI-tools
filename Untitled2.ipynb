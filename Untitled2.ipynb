{
  "nbformat": 4,
  "nbformat_minor": 0,
  "metadata": {
    "colab": {
      "provenance": [],
      "authorship_tag": "ABX9TyPbynDVe6wcCw7h8fkOsAFm",
      "include_colab_link": true
    },
    "kernelspec": {
      "name": "python3",
      "display_name": "Python 3"
    },
    "language_info": {
      "name": "python"
    }
  },
  "cells": [
    {
      "cell_type": "markdown",
      "metadata": {
        "id": "view-in-github",
        "colab_type": "text"
      },
      "source": [
        "<a href=\"https://colab.research.google.com/github/Ellen-code-dev/AI-tools/blob/main/Untitled2.ipynb\" target=\"_parent\"><img src=\"https://colab.research.google.com/assets/colab-badge.svg\" alt=\"Open In Colab\"/></a>"
      ]
    },
    {
      "cell_type": "code",
      "execution_count": null,
      "metadata": {
        "id": "9-tjVIvriAle"
      },
      "outputs": [],
      "source": [
        "task3_nlp_spacy.py"
      ]
    },
    {
      "cell_type": "code",
      "source": [
        "# --- NLP with spaCy ---\n",
        "!pip install spacy\n",
        "!python -m spacy download en_core_web_sm\n",
        "\n",
        "import spacy\n",
        "\n",
        "# Load the English model\n",
        "nlp = spacy.load(\"en_core_web_sm\")\n",
        "\n",
        "# Example review text\n",
        "text = \"I love my new Samsung Galaxy phone, but the camera on my old iPhone was better.\"\n",
        "\n",
        "# Process the text\n",
        "doc = nlp(text)\n",
        "\n",
        "# --- Named Entity Recognition ---\n",
        "print(\"Named Entities:\")\n",
        "for ent in doc.ents:\n",
        "    print(f\"{ent.text} ({ent.label_})\")\n",
        "\n",
        "# --- Simple Sentiment Analysis (rule-based) ---\n",
        "positive_words = [\"love\", \"great\", \"amazing\", \"awesome\", \"best\"]\n",
        "negative_words = [\"bad\", \"hate\", \"worst\", \"terrible\", \"awful\"]\n",
        "\n",
        "score = 0\n",
        "for token in doc:\n",
        "    if token.lemma_.lower() in positive_words:\n",
        "        score += 1\n",
        "    elif token.lemma_.lower() in negative_words:\n",
        "        score -= 1\n",
        "\n",
        "sentiment = \"Positive\" if score > 0 else \"Negative\" if score < 0 else \"Neutral\"\n",
        "print(\"\\nSentiment Result:\", sentiment)\n"
      ],
      "metadata": {
        "id": "itma_S1WiwLq"
      },
      "execution_count": null,
      "outputs": []
    },
    {
      "cell_type": "code",
      "source": [],
      "metadata": {
        "id": "twbCzodhiv3n"
      },
      "execution_count": null,
      "outputs": []
    }
  ]
}